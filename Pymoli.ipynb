{
 "cells": [
  {
   "cell_type": "code",
   "execution_count": 72,
   "metadata": {
    "collapsed": true
   },
   "outputs": [],
   "source": [
    "# import modules\n",
    "import pandas as pd\n",
    "import json"
   ]
  },
  {
   "cell_type": "code",
   "execution_count": 73,
   "metadata": {
    "collapsed": true
   },
   "outputs": [],
   "source": [
    "# set paths for files\n",
    "json_path1 = \"purchase_data.json\"\n",
    "json_path2 = \"purchase_data2.json\""
   ]
  },
  {
   "cell_type": "code",
   "execution_count": 74,
   "metadata": {
    "collapsed": true
   },
   "outputs": [],
   "source": [
    "# Read the first dataframe\n",
    "pymoli_1 = pd.read_json(json_path1)"
   ]
  },
  {
   "cell_type": "code",
   "execution_count": 75,
   "metadata": {
    "collapsed": true
   },
   "outputs": [],
   "source": [
    "# Read the second dataframe\n",
    "pymoli_2 = pd.read_json(json_path2)"
   ]
  },
  {
   "cell_type": "code",
   "execution_count": 76,
   "metadata": {
    "collapsed": true
   },
   "outputs": [],
   "source": [
    "# Concatenate the two tables and re-index them\n",
    "pymoli_full = pd.concat([pymoli_1,pymoli_2],ignore_index = True)"
   ]
  },
  {
   "cell_type": "code",
   "execution_count": 77,
   "metadata": {
    "collapsed": true
   },
   "outputs": [],
   "source": [
    "# Rename the \"SN\" column to that of \"Player\"\n",
    "pymoli = pymoli_full.rename(columns={'SN':'Player'})"
   ]
  },
  {
   "cell_type": "code",
   "execution_count": 78,
   "metadata": {},
   "outputs": [
    {
     "data": {
      "text/plain": [
       "Age          858\n",
       "Gender       858\n",
       "Item ID      858\n",
       "Item Name    858\n",
       "Price        858\n",
       "Player       858\n",
       "dtype: int64"
      ]
     },
     "execution_count": 78,
     "metadata": {},
     "output_type": "execute_result"
    }
   ],
   "source": [
    "# Look for any incomplete rows (none found)\n",
    "pymoli.count()"
   ]
  },
  {
   "cell_type": "code",
   "execution_count": 80,
   "metadata": {},
   "outputs": [
    {
     "data": {
      "text/html": [
       "<div>\n",
       "<style>\n",
       "    .dataframe thead tr:only-child th {\n",
       "        text-align: right;\n",
       "    }\n",
       "\n",
       "    .dataframe thead th {\n",
       "        text-align: left;\n",
       "    }\n",
       "\n",
       "    .dataframe tbody tr th {\n",
       "        vertical-align: top;\n",
       "    }\n",
       "</style>\n",
       "<table border=\"1\" class=\"dataframe\">\n",
       "  <thead>\n",
       "    <tr style=\"text-align: right;\">\n",
       "      <th></th>\n",
       "      <th>Total Number of Players</th>\n",
       "    </tr>\n",
       "  </thead>\n",
       "  <tbody>\n",
       "    <tr>\n",
       "      <th>0</th>\n",
       "      <td>612</td>\n",
       "    </tr>\n",
       "  </tbody>\n",
       "</table>\n",
       "</div>"
      ],
      "text/plain": [
       "   Total Number of Players\n",
       "0                      612"
      ]
     },
     "execution_count": 80,
     "metadata": {},
     "output_type": "execute_result"
    }
   ],
   "source": [
    "# Get the player count\n",
    "total_players = pymoli[\"Player\"].nunique()\n",
    "total_players_table = pd.DataFrame({\"Total Number of Players\":[total_players]})\n",
    "total_players_table"
   ]
  },
  {
   "cell_type": "code",
   "execution_count": 81,
   "metadata": {
    "collapsed": true
   },
   "outputs": [],
   "source": [
    "# Purchasing Analysis: Get the data\n",
    "total_items = pymoli[\"Item Name\"].nunique()\n",
    "average_price = pymoli[\"Price\"].mean()\n",
    "total_purchases = len(pymoli)\n",
    "total_revenue = pymoli[\"Price\"].sum()"
   ]
  },
  {
   "cell_type": "code",
   "execution_count": 82,
   "metadata": {
    "collapsed": true
   },
   "outputs": [],
   "source": [
    "# Purchasing Analysis: Create a summary dataframe\n",
    "summary_table = pd.DataFrame({\"Number of Unique Items\":[total_items],\n",
    "                             \"Average Purchase Price\":[average_price],\n",
    "                             \"Total Number of Purchases\":[total_purchases],\n",
    "                             \"Total Revenue\":[total_revenue]})"
   ]
  },
  {
   "cell_type": "code",
   "execution_count": 83,
   "metadata": {},
   "outputs": [
    {
     "data": {
      "text/html": [
       "<div>\n",
       "<style>\n",
       "    .dataframe thead tr:only-child th {\n",
       "        text-align: right;\n",
       "    }\n",
       "\n",
       "    .dataframe thead th {\n",
       "        text-align: left;\n",
       "    }\n",
       "\n",
       "    .dataframe tbody tr th {\n",
       "        vertical-align: top;\n",
       "    }\n",
       "</style>\n",
       "<table border=\"1\" class=\"dataframe\">\n",
       "  <thead>\n",
       "    <tr style=\"text-align: right;\">\n",
       "      <th></th>\n",
       "      <th>Number of Unique Items</th>\n",
       "      <th>Average Purchase Price</th>\n",
       "      <th>Total Number of Purchases</th>\n",
       "      <th>Total Revenue</th>\n",
       "    </tr>\n",
       "  </thead>\n",
       "  <tbody>\n",
       "    <tr>\n",
       "      <th>0</th>\n",
       "      <td>180</td>\n",
       "      <td>$2.93</td>\n",
       "      <td>858</td>\n",
       "      <td>$2514.43</td>\n",
       "    </tr>\n",
       "  </tbody>\n",
       "</table>\n",
       "</div>"
      ],
      "text/plain": [
       "   Number of Unique Items Average Purchase Price  Total Number of Purchases  \\\n",
       "0                     180                  $2.93                        858   \n",
       "\n",
       "  Total Revenue  \n",
       "0      $2514.43  "
      ]
     },
     "execution_count": 83,
     "metadata": {},
     "output_type": "execute_result"
    }
   ],
   "source": [
    "# Purchasing Analysis: Format the dataframe by formatting numbers and rearranging columns\n",
    "summary_table[\"Average Purchase Price\"] = summary_table[\"Average Purchase Price\"].map(\"${:.2f}\".format)\n",
    "summary_table[\"Total Revenue\"] = summary_table[\"Total Revenue\"].map(\"${:.2f}\".format)\n",
    "summary_tablef = summary_table[[\"Number of Unique Items\",\"Average Purchase Price\",\"Total Number of Purchases\", \"Total Revenue\"]]\n",
    "summary_tablef.head()"
   ]
  },
  {
   "cell_type": "code",
   "execution_count": 172,
   "metadata": {},
   "outputs": [],
   "source": [
    "# Gender Demographics: Create a new dataframe only including Player and Gender, remove duplicate player rows, then drop players\n",
    "gender_table = pymoli[[\"Player\",\"Gender\"]]\n",
    "gender_table.duplicated()\n",
    "gender_unique = gender_table.drop_duplicates(\"Player\")\n",
    "gender_unique = gender_unique.drop([\"Player\"],axis=1)"
   ]
  },
  {
   "cell_type": "code",
   "execution_count": 182,
   "metadata": {},
   "outputs": [
    {
     "data": {
      "text/html": [
       "<div>\n",
       "<style>\n",
       "    .dataframe thead tr:only-child th {\n",
       "        text-align: right;\n",
       "    }\n",
       "\n",
       "    .dataframe thead th {\n",
       "        text-align: left;\n",
       "    }\n",
       "\n",
       "    .dataframe tbody tr th {\n",
       "        vertical-align: top;\n",
       "    }\n",
       "</style>\n",
       "<table border=\"1\" class=\"dataframe\">\n",
       "  <thead>\n",
       "    <tr style=\"text-align: right;\">\n",
       "      <th></th>\n",
       "      <th>Percentage of Players</th>\n",
       "      <th>Total Count</th>\n",
       "    </tr>\n",
       "    <tr>\n",
       "      <th>Gender</th>\n",
       "      <th></th>\n",
       "      <th></th>\n",
       "    </tr>\n",
       "  </thead>\n",
       "  <tbody>\n",
       "    <tr>\n",
       "      <th>Male</th>\n",
       "      <td>80.88%</td>\n",
       "      <td>495</td>\n",
       "    </tr>\n",
       "    <tr>\n",
       "      <th>Female</th>\n",
       "      <td>17.65%</td>\n",
       "      <td>108</td>\n",
       "    </tr>\n",
       "    <tr>\n",
       "      <th>Other / Non-Disclosed</th>\n",
       "      <td>1.47%</td>\n",
       "      <td>9</td>\n",
       "    </tr>\n",
       "  </tbody>\n",
       "</table>\n",
       "</div>"
      ],
      "text/plain": [
       "                      Percentage of Players  Total Count\n",
       "Gender                                                  \n",
       "Male                                 80.88%          495\n",
       "Female                               17.65%          108\n",
       "Other / Non-Disclosed                 1.47%            9"
      ]
     },
     "execution_count": 182,
     "metadata": {},
     "output_type": "execute_result"
    }
   ],
   "source": [
    "# Gender Demographics: Get the gender counts of the unique players and the percentage of each compared to total unique players\n",
    "gender_counts = gender_unique[\"Gender\"].value_counts()\n",
    "gender_counts_df = pd.DataFrame(gender_counts)\n",
    "gender_counts_df = gender_counts_df.rename(columns={\"Gender\":\"Total Count\"})\n",
    "gender_counts_df.index.names = ['Gender']\n",
    "gender_counts_df['Percentage of Players'] = gender_counts_df['Total Count']/total_players\n",
    "\n",
    "# Gender Demographics: Rearrange the columns and format the percentage column as a percentage\n",
    "gender_counts_df['Percentage of Players'] = gender_counts_df['Percentage of Players'].map(\"{:.2%}\".format)\n",
    "gender_counts_format = gender_counts_df[['Percentage of Players','Total Count']]\n",
    "gender_counts_format"
   ]
  },
  {
   "cell_type": "code",
   "execution_count": null,
   "metadata": {
    "collapsed": true
   },
   "outputs": [],
   "source": [
    "# Purchasing Analysis (gender)\n"
   ]
  }
 ],
 "metadata": {
  "kernelspec": {
   "display_name": "Python 3",
   "language": "python",
   "name": "python3"
  },
  "language_info": {
   "codemirror_mode": {
    "name": "ipython",
    "version": 3
   },
   "file_extension": ".py",
   "mimetype": "text/x-python",
   "name": "python",
   "nbconvert_exporter": "python",
   "pygments_lexer": "ipython3",
   "version": "3.6.1"
  }
 },
 "nbformat": 4,
 "nbformat_minor": 2
}
